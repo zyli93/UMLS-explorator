{
 "cells": [
  {
   "cell_type": "markdown",
   "metadata": {},
   "source": [
    "This notebook investigates how cycles formed inside MRHIER.\n",
    "\n",
    "Sample source vocabulary: AOT\n",
    "- 241 AUIs\n",
    "- 3 out of 6 contexts have cycles\n",
    "    - context 1: [('A10759068', 'A10759290'), ('A10759290', 'A10759300'), ('A10759300', 'A10759068')]\n",
    "    - context 2: [('A10759348', 'A10759090'), ('A10759090', 'A10759290'), ('A10759290', 'A10759068'), ('A10759068', 'A10759348')]\n",
    "    - context 3: [('A10759068', 'A10759304'), ('A10759304', 'A10759145'), ('A10759145', 'A10759204'), ('A10759204', 'A10759533'), ('A10759533', 'A10759068')]"
   ]
  },
  {
   "cell_type": "code",
   "execution_count": 1,
   "metadata": {},
   "outputs": [],
   "source": [
    "import pandas as pd\n",
    "import networkx as nx\n",
    "import matplotlib.pyplot as plt\n",
    "%matplotlib inline"
   ]
  },
  {
   "cell_type": "code",
   "execution_count": 2,
   "metadata": {},
   "outputs": [],
   "source": [
    "# import MRHIER.RRF\n",
    "mrhier = pd.read_csv('../../2018AB_RRF/META/MRHIER.RRF', sep='|', header=None, dtype=object)"
   ]
  },
  {
   "cell_type": "code",
   "execution_count": 3,
   "metadata": {},
   "outputs": [],
   "source": [
    "# Give columns names and drop the last column\n",
    "mrhier.drop(9, axis=1, inplace=True)\n",
    "mrhier.columns = ['CUI', 'AUI', 'CXN', 'PAUI', 'SAB', 'RELA', 'PTR', 'HCD', 'CVF']"
   ]
  },
  {
   "cell_type": "code",
   "execution_count": 4,
   "metadata": {},
   "outputs": [],
   "source": [
    "aot = mrhier[mrhier['SAB'] == 'AOT']"
   ]
  },
  {
   "cell_type": "code",
   "execution_count": 5,
   "metadata": {},
   "outputs": [
    {
     "data": {
      "text/html": [
       "<div>\n",
       "<style scoped>\n",
       "    .dataframe tbody tr th:only-of-type {\n",
       "        vertical-align: middle;\n",
       "    }\n",
       "\n",
       "    .dataframe tbody tr th {\n",
       "        vertical-align: top;\n",
       "    }\n",
       "\n",
       "    .dataframe thead th {\n",
       "        text-align: right;\n",
       "    }\n",
       "</style>\n",
       "<table border=\"1\" class=\"dataframe\">\n",
       "  <thead>\n",
       "    <tr style=\"text-align: right;\">\n",
       "      <th></th>\n",
       "      <th>CUI</th>\n",
       "      <th>AUI</th>\n",
       "      <th>CXN</th>\n",
       "      <th>PAUI</th>\n",
       "      <th>SAB</th>\n",
       "      <th>RELA</th>\n",
       "      <th>PTR</th>\n",
       "      <th>HCD</th>\n",
       "      <th>CVF</th>\n",
       "    </tr>\n",
       "  </thead>\n",
       "  <tbody>\n",
       "    <tr>\n",
       "      <th>count</th>\n",
       "      <td>291</td>\n",
       "      <td>291</td>\n",
       "      <td>291</td>\n",
       "      <td>0.0</td>\n",
       "      <td>291</td>\n",
       "      <td>0.0</td>\n",
       "      <td>290</td>\n",
       "      <td>0.0</td>\n",
       "      <td>0.0</td>\n",
       "    </tr>\n",
       "    <tr>\n",
       "      <th>unique</th>\n",
       "      <td>239</td>\n",
       "      <td>241</td>\n",
       "      <td>6</td>\n",
       "      <td>0.0</td>\n",
       "      <td>1</td>\n",
       "      <td>0.0</td>\n",
       "      <td>73</td>\n",
       "      <td>0.0</td>\n",
       "      <td>0.0</td>\n",
       "    </tr>\n",
       "    <tr>\n",
       "      <th>top</th>\n",
       "      <td>C1563107</td>\n",
       "      <td>A10759470</td>\n",
       "      <td>1</td>\n",
       "      <td>NaN</td>\n",
       "      <td>AOT</td>\n",
       "      <td>NaN</td>\n",
       "      <td>A10759348</td>\n",
       "      <td>NaN</td>\n",
       "      <td>NaN</td>\n",
       "    </tr>\n",
       "    <tr>\n",
       "      <th>freq</th>\n",
       "      <td>3</td>\n",
       "      <td>3</td>\n",
       "      <td>241</td>\n",
       "      <td>NaN</td>\n",
       "      <td>291</td>\n",
       "      <td>NaN</td>\n",
       "      <td>27</td>\n",
       "      <td>NaN</td>\n",
       "      <td>NaN</td>\n",
       "    </tr>\n",
       "  </tbody>\n",
       "</table>\n",
       "</div>"
      ],
      "text/plain": [
       "             CUI        AUI  CXN  PAUI  SAB  RELA        PTR  HCD  CVF\n",
       "count        291        291  291   0.0  291   0.0        290  0.0  0.0\n",
       "unique       239        241    6   0.0    1   0.0         73  0.0  0.0\n",
       "top     C1563107  A10759470    1   NaN  AOT   NaN  A10759348  NaN  NaN\n",
       "freq           3          3  241   NaN  291   NaN         27  NaN  NaN"
      ]
     },
     "execution_count": 5,
     "metadata": {},
     "output_type": "execute_result"
    }
   ],
   "source": [
    "aot.describe()"
   ]
  },
  {
   "cell_type": "code",
   "execution_count": 6,
   "metadata": {},
   "outputs": [],
   "source": [
    "G = nx.Graph()\n",
    "for index, row in aot[aot['CXN'] == '3'].iterrows():\n",
    "    if pd.isna(row['PTR']):\n",
    "        continue\n",
    "    parents = row['PTR'].split('.')\n",
    "    for i, p in enumerate(parents[:-1]):\n",
    "        G.add_edge(p, parents[i+1])\n",
    "    G.add_edge(parents[-1], row['AUI'])"
   ]
  },
  {
   "cell_type": "code",
   "execution_count": 7,
   "metadata": {},
   "outputs": [
    {
     "data": {
      "text/html": [
       "<div>\n",
       "<style scoped>\n",
       "    .dataframe tbody tr th:only-of-type {\n",
       "        vertical-align: middle;\n",
       "    }\n",
       "\n",
       "    .dataframe tbody tr th {\n",
       "        vertical-align: top;\n",
       "    }\n",
       "\n",
       "    .dataframe thead th {\n",
       "        text-align: right;\n",
       "    }\n",
       "</style>\n",
       "<table border=\"1\" class=\"dataframe\">\n",
       "  <thead>\n",
       "    <tr style=\"text-align: right;\">\n",
       "      <th></th>\n",
       "      <th>CUI</th>\n",
       "      <th>AUI</th>\n",
       "      <th>CXN</th>\n",
       "      <th>PAUI</th>\n",
       "      <th>SAB</th>\n",
       "      <th>RELA</th>\n",
       "      <th>PTR</th>\n",
       "      <th>HCD</th>\n",
       "      <th>CVF</th>\n",
       "    </tr>\n",
       "  </thead>\n",
       "  <tbody>\n",
       "    <tr>\n",
       "      <th>17233535</th>\n",
       "      <td>C1562041</td>\n",
       "      <td>A10759470</td>\n",
       "      <td>3</td>\n",
       "      <td>NaN</td>\n",
       "      <td>AOT</td>\n",
       "      <td>NaN</td>\n",
       "      <td>A10759348.A10759071.A10759385</td>\n",
       "      <td>NaN</td>\n",
       "      <td>NaN</td>\n",
       "    </tr>\n",
       "    <tr>\n",
       "      <th>17233665</th>\n",
       "      <td>C1562055</td>\n",
       "      <td>A10759442</td>\n",
       "      <td>3</td>\n",
       "      <td>NaN</td>\n",
       "      <td>AOT</td>\n",
       "      <td>NaN</td>\n",
       "      <td>A10759348.A10759308.A10759404.A10759392.A10759386</td>\n",
       "      <td>NaN</td>\n",
       "      <td>NaN</td>\n",
       "    </tr>\n",
       "    <tr>\n",
       "      <th>17240013</th>\n",
       "      <td>C1562188</td>\n",
       "      <td>A10759471</td>\n",
       "      <td>3</td>\n",
       "      <td>NaN</td>\n",
       "      <td>AOT</td>\n",
       "      <td>NaN</td>\n",
       "      <td>A10759348.A10759071.A10759386</td>\n",
       "      <td>NaN</td>\n",
       "      <td>NaN</td>\n",
       "    </tr>\n",
       "    <tr>\n",
       "      <th>17253869</th>\n",
       "      <td>C1562632</td>\n",
       "      <td>A10759163</td>\n",
       "      <td>3</td>\n",
       "      <td>NaN</td>\n",
       "      <td>AOT</td>\n",
       "      <td>NaN</td>\n",
       "      <td>A10759348.A10759090.A10759290</td>\n",
       "      <td>NaN</td>\n",
       "      <td>NaN</td>\n",
       "    </tr>\n",
       "    <tr>\n",
       "      <th>17259192</th>\n",
       "      <td>C1562758</td>\n",
       "      <td>A10759385</td>\n",
       "      <td>3</td>\n",
       "      <td>NaN</td>\n",
       "      <td>AOT</td>\n",
       "      <td>NaN</td>\n",
       "      <td>A10759348.A10759308.A10759404.A10759392</td>\n",
       "      <td>NaN</td>\n",
       "      <td>NaN</td>\n",
       "    </tr>\n",
       "    <tr>\n",
       "      <th>17265055</th>\n",
       "      <td>C1562983</td>\n",
       "      <td>A10759432</td>\n",
       "      <td>3</td>\n",
       "      <td>NaN</td>\n",
       "      <td>AOT</td>\n",
       "      <td>NaN</td>\n",
       "      <td>A10759348.A10759308.A10759404.A10759392.A10759385</td>\n",
       "      <td>NaN</td>\n",
       "      <td>NaN</td>\n",
       "    </tr>\n",
       "    <tr>\n",
       "      <th>17266962</th>\n",
       "      <td>C1563107</td>\n",
       "      <td>A10759386</td>\n",
       "      <td>3</td>\n",
       "      <td>NaN</td>\n",
       "      <td>AOT</td>\n",
       "      <td>NaN</td>\n",
       "      <td>A10759348.A10759308.A10759404.A10759392</td>\n",
       "      <td>NaN</td>\n",
       "      <td>NaN</td>\n",
       "    </tr>\n",
       "    <tr>\n",
       "      <th>17267580</th>\n",
       "      <td>C1563149</td>\n",
       "      <td>A10759422</td>\n",
       "      <td>3</td>\n",
       "      <td>NaN</td>\n",
       "      <td>AOT</td>\n",
       "      <td>NaN</td>\n",
       "      <td>A10759348.A10759090.A10759290</td>\n",
       "      <td>NaN</td>\n",
       "      <td>NaN</td>\n",
       "    </tr>\n",
       "    <tr>\n",
       "      <th>17270451</th>\n",
       "      <td>C1563236</td>\n",
       "      <td>A10759435</td>\n",
       "      <td>3</td>\n",
       "      <td>NaN</td>\n",
       "      <td>AOT</td>\n",
       "      <td>NaN</td>\n",
       "      <td>A10759348.A10759090.A10759290</td>\n",
       "      <td>NaN</td>\n",
       "      <td>NaN</td>\n",
       "    </tr>\n",
       "    <tr>\n",
       "      <th>17492552</th>\n",
       "      <td>C1704544</td>\n",
       "      <td>A10759280</td>\n",
       "      <td>3</td>\n",
       "      <td>NaN</td>\n",
       "      <td>AOT</td>\n",
       "      <td>NaN</td>\n",
       "      <td>A10759348.A10759090.A10759290</td>\n",
       "      <td>NaN</td>\n",
       "      <td>NaN</td>\n",
       "    </tr>\n",
       "  </tbody>\n",
       "</table>\n",
       "</div>"
      ],
      "text/plain": [
       "               CUI        AUI CXN PAUI  SAB RELA  \\\n",
       "17233535  C1562041  A10759470   3  NaN  AOT  NaN   \n",
       "17233665  C1562055  A10759442   3  NaN  AOT  NaN   \n",
       "17240013  C1562188  A10759471   3  NaN  AOT  NaN   \n",
       "17253869  C1562632  A10759163   3  NaN  AOT  NaN   \n",
       "17259192  C1562758  A10759385   3  NaN  AOT  NaN   \n",
       "17265055  C1562983  A10759432   3  NaN  AOT  NaN   \n",
       "17266962  C1563107  A10759386   3  NaN  AOT  NaN   \n",
       "17267580  C1563149  A10759422   3  NaN  AOT  NaN   \n",
       "17270451  C1563236  A10759435   3  NaN  AOT  NaN   \n",
       "17492552  C1704544  A10759280   3  NaN  AOT  NaN   \n",
       "\n",
       "                                                        PTR  HCD  CVF  \n",
       "17233535                      A10759348.A10759071.A10759385  NaN  NaN  \n",
       "17233665  A10759348.A10759308.A10759404.A10759392.A10759386  NaN  NaN  \n",
       "17240013                      A10759348.A10759071.A10759386  NaN  NaN  \n",
       "17253869                      A10759348.A10759090.A10759290  NaN  NaN  \n",
       "17259192            A10759348.A10759308.A10759404.A10759392  NaN  NaN  \n",
       "17265055  A10759348.A10759308.A10759404.A10759392.A10759385  NaN  NaN  \n",
       "17266962            A10759348.A10759308.A10759404.A10759392  NaN  NaN  \n",
       "17267580                      A10759348.A10759090.A10759290  NaN  NaN  \n",
       "17270451                      A10759348.A10759090.A10759290  NaN  NaN  \n",
       "17492552                      A10759348.A10759090.A10759290  NaN  NaN  "
      ]
     },
     "execution_count": 7,
     "metadata": {},
     "output_type": "execute_result"
    }
   ],
   "source": [
    "aot[aot['CXN'] == '3']"
   ]
  },
  {
   "cell_type": "code",
   "execution_count": 8,
   "metadata": {},
   "outputs": [
    {
     "data": {
      "text/plain": [
       "'Name: \\nType: Graph\\nNumber of nodes: 17\\nNumber of edges: 18\\nAverage degree:   2.1176'"
      ]
     },
     "execution_count": 8,
     "metadata": {},
     "output_type": "execute_result"
    }
   ],
   "source": [
    "nx.info(G)"
   ]
  },
  {
   "cell_type": "code",
   "execution_count": 9,
   "metadata": {},
   "outputs": [
    {
     "data": {
      "text/plain": [
       "False"
      ]
     },
     "execution_count": 9,
     "metadata": {},
     "output_type": "execute_result"
    }
   ],
   "source": [
    "nx.is_tree(G)"
   ]
  },
  {
   "cell_type": "code",
   "execution_count": 10,
   "metadata": {},
   "outputs": [
    {
     "data": {
      "text/plain": [
       "[('A10759348', 'A10759071'),\n",
       " ('A10759071', 'A10759385'),\n",
       " ('A10759385', 'A10759392'),\n",
       " ('A10759392', 'A10759404'),\n",
       " ('A10759404', 'A10759308'),\n",
       " ('A10759308', 'A10759348')]"
      ]
     },
     "execution_count": 10,
     "metadata": {},
     "output_type": "execute_result"
    }
   ],
   "source": [
    "nx.find_cycle(G)"
   ]
  },
  {
   "cell_type": "code",
   "execution_count": 11,
   "metadata": {},
   "outputs": [
    {
     "name": "stderr",
     "output_type": "stream",
     "text": [
      "/opt/conda/lib/python3.6/site-packages/networkx/drawing/nx_pylab.py:518: MatplotlibDeprecationWarning: \n",
      "The iterable function was deprecated in Matplotlib 3.1 and will be removed in 3.3. Use np.iterable instead.\n",
      "  if not cb.iterable(width):\n",
      "/opt/conda/lib/python3.6/site-packages/networkx/drawing/nx_pylab.py:565: MatplotlibDeprecationWarning: \n",
      "The is_numlike function was deprecated in Matplotlib 3.0 and will be removed in 3.2. Use isinstance(..., numbers.Number) instead.\n",
      "  if cb.is_numlike(alpha):\n"
     ]
    },
    {
     "data": {
      "image/png": "[encoded data removed]",
      "text/plain": [
       "<Figure size 1440x720 with 1 Axes>"
      ]
     },
     "metadata": {},
     "output_type": "display_data"
    }
   ],
   "source": [
    "plt.figure(figsize=(20, 10))\n",
    "nx.draw(G, with_labels=True)\n",
    "plt.draw()"
   ]
  },
  {
   "cell_type": "code",
   "execution_count": 12,
   "metadata": {},
   "outputs": [
    {
     "data": {
      "text/html": [
       "<div>\n",
       "<style scoped>\n",
       "    .dataframe tbody tr th:only-of-type {\n",
       "        vertical-align: middle;\n",
       "    }\n",
       "\n",
       "    .dataframe tbody tr th {\n",
       "        vertical-align: top;\n",
       "    }\n",
       "\n",
       "    .dataframe thead th {\n",
       "        text-align: right;\n",
       "    }\n",
       "</style>\n",
       "<table border=\"1\" class=\"dataframe\">\n",
       "  <thead>\n",
       "    <tr style=\"text-align: right;\">\n",
       "      <th></th>\n",
       "      <th>CUI</th>\n",
       "      <th>AUI</th>\n",
       "      <th>CXN</th>\n",
       "      <th>PAUI</th>\n",
       "      <th>SAB</th>\n",
       "      <th>RELA</th>\n",
       "      <th>PTR</th>\n",
       "      <th>HCD</th>\n",
       "      <th>CVF</th>\n",
       "    </tr>\n",
       "  </thead>\n",
       "  <tbody>\n",
       "    <tr>\n",
       "      <th>13407528</th>\n",
       "      <td>C0949744</td>\n",
       "      <td>A10759068</td>\n",
       "      <td>1</td>\n",
       "      <td>NaN</td>\n",
       "      <td>AOT</td>\n",
       "      <td>NaN</td>\n",
       "      <td>A10759348</td>\n",
       "      <td>NaN</td>\n",
       "      <td>NaN</td>\n",
       "    </tr>\n",
       "  </tbody>\n",
       "</table>\n",
       "</div>"
      ],
      "text/plain": [
       "               CUI        AUI CXN PAUI  SAB RELA        PTR  HCD  CVF\n",
       "13407528  C0949744  A10759068   1  NaN  AOT  NaN  A10759348  NaN  NaN"
      ]
     },
     "execution_count": 12,
     "metadata": {},
     "output_type": "execute_result"
    }
   ],
   "source": [
    "aot[aot['AUI'] == \"A10759068\"]"
   ]
  },
  {
   "cell_type": "code",
   "execution_count": null,
   "metadata": {},
   "outputs": [],
   "source": []
  }
 ],
 "metadata": {
  "kernelspec": {
   "display_name": "Python 3",
   "language": "python",
   "name": "python3"
  },
  "language_info": {
   "codemirror_mode": {
    "name": "ipython",
    "version": 3
   },
   "file_extension": ".py",
   "mimetype": "text/x-python",
   "name": "python",
   "nbconvert_exporter": "python",
   "pygments_lexer": "ipython3",
   "version": "3.6.9"
  }
 },
 "nbformat": 4,
 "nbformat_minor": 2
}
